{
 "cells": [
  {
   "cell_type": "code",
   "execution_count": 2,
   "id": "c7af309c",
   "metadata": {},
   "outputs": [
    {
     "ename": "HTTPError",
     "evalue": "HTTP Error 403: Forbidden",
     "output_type": "error",
     "traceback": [
      "\u001b[1;31m---------------------------------------------------------------------------\u001b[0m",
      "\u001b[1;31mHTTPError\u001b[0m                                 Traceback (most recent call last)",
      "\u001b[1;32m<ipython-input-2-eb22acdb9501>\u001b[0m in \u001b[0;36m<module>\u001b[1;34m\u001b[0m\n\u001b[0;32m     33\u001b[0m         }\n\u001b[0;32m     34\u001b[0m \u001b[0mrequest1\u001b[0m \u001b[1;33m=\u001b[0m \u001b[0murllib\u001b[0m\u001b[1;33m.\u001b[0m\u001b[0mrequest\u001b[0m\u001b[1;33m.\u001b[0m\u001b[0mRequest\u001b[0m\u001b[1;33m(\u001b[0m\u001b[0msite\u001b[0m\u001b[1;33m,\u001b[0m \u001b[0mheaders\u001b[0m\u001b[1;33m=\u001b[0m\u001b[0mheaders\u001b[0m\u001b[1;33m)\u001b[0m\u001b[1;33m\u001b[0m\u001b[1;33m\u001b[0m\u001b[0m\n\u001b[1;32m---> 35\u001b[1;33m \u001b[0mremote_data\u001b[0m \u001b[1;33m=\u001b[0m \u001b[0murllib\u001b[0m\u001b[1;33m.\u001b[0m\u001b[0mrequest\u001b[0m\u001b[1;33m.\u001b[0m\u001b[0murlopen\u001b[0m\u001b[1;33m(\u001b[0m\u001b[0mrequest1\u001b[0m\u001b[1;33m)\u001b[0m\u001b[1;33m.\u001b[0m\u001b[0mread\u001b[0m\u001b[1;33m(\u001b[0m\u001b[1;33m)\u001b[0m\u001b[1;33m\u001b[0m\u001b[1;33m\u001b[0m\u001b[0m\n\u001b[0m\u001b[0;32m     36\u001b[0m \u001b[1;33m\u001b[0m\u001b[0m\n\u001b[0;32m     37\u001b[0m \u001b[0mLINE_CHANNEL_ACCESS_TOKEN\u001b[0m \u001b[1;33m=\u001b[0m \u001b[1;34m'7YbOM4Fwdn7LZ2KbKCm2k0h+sZwAPoEG8nqiSET87IRkPpMANKtBje9Iwn9lLAersmqOBsuwB65WuuCwUOtOWddbrA37R8Cc76+BpBNbK7GWzHwki80Ecb26IcnDq2U2oUt0m0/aKIjMRnkl/2XXJAdB04t89/1O/w1cDnyilFU='\u001b[0m\u001b[1;33m\u001b[0m\u001b[1;33m\u001b[0m\u001b[0m\n",
      "\u001b[1;32mC:\\ProgramData\\Anaconda3\\lib\\urllib\\request.py\u001b[0m in \u001b[0;36murlopen\u001b[1;34m(url, data, timeout, cafile, capath, cadefault, context)\u001b[0m\n\u001b[0;32m    220\u001b[0m     \u001b[1;32melse\u001b[0m\u001b[1;33m:\u001b[0m\u001b[1;33m\u001b[0m\u001b[1;33m\u001b[0m\u001b[0m\n\u001b[0;32m    221\u001b[0m         \u001b[0mopener\u001b[0m \u001b[1;33m=\u001b[0m \u001b[0m_opener\u001b[0m\u001b[1;33m\u001b[0m\u001b[1;33m\u001b[0m\u001b[0m\n\u001b[1;32m--> 222\u001b[1;33m     \u001b[1;32mreturn\u001b[0m \u001b[0mopener\u001b[0m\u001b[1;33m.\u001b[0m\u001b[0mopen\u001b[0m\u001b[1;33m(\u001b[0m\u001b[0murl\u001b[0m\u001b[1;33m,\u001b[0m \u001b[0mdata\u001b[0m\u001b[1;33m,\u001b[0m \u001b[0mtimeout\u001b[0m\u001b[1;33m)\u001b[0m\u001b[1;33m\u001b[0m\u001b[1;33m\u001b[0m\u001b[0m\n\u001b[0m\u001b[0;32m    223\u001b[0m \u001b[1;33m\u001b[0m\u001b[0m\n\u001b[0;32m    224\u001b[0m \u001b[1;32mdef\u001b[0m \u001b[0minstall_opener\u001b[0m\u001b[1;33m(\u001b[0m\u001b[0mopener\u001b[0m\u001b[1;33m)\u001b[0m\u001b[1;33m:\u001b[0m\u001b[1;33m\u001b[0m\u001b[1;33m\u001b[0m\u001b[0m\n",
      "\u001b[1;32mC:\\ProgramData\\Anaconda3\\lib\\urllib\\request.py\u001b[0m in \u001b[0;36mopen\u001b[1;34m(self, fullurl, data, timeout)\u001b[0m\n\u001b[0;32m    529\u001b[0m         \u001b[1;32mfor\u001b[0m \u001b[0mprocessor\u001b[0m \u001b[1;32min\u001b[0m \u001b[0mself\u001b[0m\u001b[1;33m.\u001b[0m\u001b[0mprocess_response\u001b[0m\u001b[1;33m.\u001b[0m\u001b[0mget\u001b[0m\u001b[1;33m(\u001b[0m\u001b[0mprotocol\u001b[0m\u001b[1;33m,\u001b[0m \u001b[1;33m[\u001b[0m\u001b[1;33m]\u001b[0m\u001b[1;33m)\u001b[0m\u001b[1;33m:\u001b[0m\u001b[1;33m\u001b[0m\u001b[1;33m\u001b[0m\u001b[0m\n\u001b[0;32m    530\u001b[0m             \u001b[0mmeth\u001b[0m \u001b[1;33m=\u001b[0m \u001b[0mgetattr\u001b[0m\u001b[1;33m(\u001b[0m\u001b[0mprocessor\u001b[0m\u001b[1;33m,\u001b[0m \u001b[0mmeth_name\u001b[0m\u001b[1;33m)\u001b[0m\u001b[1;33m\u001b[0m\u001b[1;33m\u001b[0m\u001b[0m\n\u001b[1;32m--> 531\u001b[1;33m             \u001b[0mresponse\u001b[0m \u001b[1;33m=\u001b[0m \u001b[0mmeth\u001b[0m\u001b[1;33m(\u001b[0m\u001b[0mreq\u001b[0m\u001b[1;33m,\u001b[0m \u001b[0mresponse\u001b[0m\u001b[1;33m)\u001b[0m\u001b[1;33m\u001b[0m\u001b[1;33m\u001b[0m\u001b[0m\n\u001b[0m\u001b[0;32m    532\u001b[0m \u001b[1;33m\u001b[0m\u001b[0m\n\u001b[0;32m    533\u001b[0m         \u001b[1;32mreturn\u001b[0m \u001b[0mresponse\u001b[0m\u001b[1;33m\u001b[0m\u001b[1;33m\u001b[0m\u001b[0m\n",
      "\u001b[1;32mC:\\ProgramData\\Anaconda3\\lib\\urllib\\request.py\u001b[0m in \u001b[0;36mhttp_response\u001b[1;34m(self, request, response)\u001b[0m\n\u001b[0;32m    638\u001b[0m         \u001b[1;31m# request was successfully received, understood, and accepted.\u001b[0m\u001b[1;33m\u001b[0m\u001b[1;33m\u001b[0m\u001b[1;33m\u001b[0m\u001b[0m\n\u001b[0;32m    639\u001b[0m         \u001b[1;32mif\u001b[0m \u001b[1;32mnot\u001b[0m \u001b[1;33m(\u001b[0m\u001b[1;36m200\u001b[0m \u001b[1;33m<=\u001b[0m \u001b[0mcode\u001b[0m \u001b[1;33m<\u001b[0m \u001b[1;36m300\u001b[0m\u001b[1;33m)\u001b[0m\u001b[1;33m:\u001b[0m\u001b[1;33m\u001b[0m\u001b[1;33m\u001b[0m\u001b[0m\n\u001b[1;32m--> 640\u001b[1;33m             response = self.parent.error(\n\u001b[0m\u001b[0;32m    641\u001b[0m                 'http', request, response, code, msg, hdrs)\n\u001b[0;32m    642\u001b[0m \u001b[1;33m\u001b[0m\u001b[0m\n",
      "\u001b[1;32mC:\\ProgramData\\Anaconda3\\lib\\urllib\\request.py\u001b[0m in \u001b[0;36merror\u001b[1;34m(self, proto, *args)\u001b[0m\n\u001b[0;32m    567\u001b[0m         \u001b[1;32mif\u001b[0m \u001b[0mhttp_err\u001b[0m\u001b[1;33m:\u001b[0m\u001b[1;33m\u001b[0m\u001b[1;33m\u001b[0m\u001b[0m\n\u001b[0;32m    568\u001b[0m             \u001b[0margs\u001b[0m \u001b[1;33m=\u001b[0m \u001b[1;33m(\u001b[0m\u001b[0mdict\u001b[0m\u001b[1;33m,\u001b[0m \u001b[1;34m'default'\u001b[0m\u001b[1;33m,\u001b[0m \u001b[1;34m'http_error_default'\u001b[0m\u001b[1;33m)\u001b[0m \u001b[1;33m+\u001b[0m \u001b[0morig_args\u001b[0m\u001b[1;33m\u001b[0m\u001b[1;33m\u001b[0m\u001b[0m\n\u001b[1;32m--> 569\u001b[1;33m             \u001b[1;32mreturn\u001b[0m \u001b[0mself\u001b[0m\u001b[1;33m.\u001b[0m\u001b[0m_call_chain\u001b[0m\u001b[1;33m(\u001b[0m\u001b[1;33m*\u001b[0m\u001b[0margs\u001b[0m\u001b[1;33m)\u001b[0m\u001b[1;33m\u001b[0m\u001b[1;33m\u001b[0m\u001b[0m\n\u001b[0m\u001b[0;32m    570\u001b[0m \u001b[1;33m\u001b[0m\u001b[0m\n\u001b[0;32m    571\u001b[0m \u001b[1;31m# XXX probably also want an abstract factory that knows when it makes\u001b[0m\u001b[1;33m\u001b[0m\u001b[1;33m\u001b[0m\u001b[1;33m\u001b[0m\u001b[0m\n",
      "\u001b[1;32mC:\\ProgramData\\Anaconda3\\lib\\urllib\\request.py\u001b[0m in \u001b[0;36m_call_chain\u001b[1;34m(self, chain, kind, meth_name, *args)\u001b[0m\n\u001b[0;32m    500\u001b[0m         \u001b[1;32mfor\u001b[0m \u001b[0mhandler\u001b[0m \u001b[1;32min\u001b[0m \u001b[0mhandlers\u001b[0m\u001b[1;33m:\u001b[0m\u001b[1;33m\u001b[0m\u001b[1;33m\u001b[0m\u001b[0m\n\u001b[0;32m    501\u001b[0m             \u001b[0mfunc\u001b[0m \u001b[1;33m=\u001b[0m \u001b[0mgetattr\u001b[0m\u001b[1;33m(\u001b[0m\u001b[0mhandler\u001b[0m\u001b[1;33m,\u001b[0m \u001b[0mmeth_name\u001b[0m\u001b[1;33m)\u001b[0m\u001b[1;33m\u001b[0m\u001b[1;33m\u001b[0m\u001b[0m\n\u001b[1;32m--> 502\u001b[1;33m             \u001b[0mresult\u001b[0m \u001b[1;33m=\u001b[0m \u001b[0mfunc\u001b[0m\u001b[1;33m(\u001b[0m\u001b[1;33m*\u001b[0m\u001b[0margs\u001b[0m\u001b[1;33m)\u001b[0m\u001b[1;33m\u001b[0m\u001b[1;33m\u001b[0m\u001b[0m\n\u001b[0m\u001b[0;32m    503\u001b[0m             \u001b[1;32mif\u001b[0m \u001b[0mresult\u001b[0m \u001b[1;32mis\u001b[0m \u001b[1;32mnot\u001b[0m \u001b[1;32mNone\u001b[0m\u001b[1;33m:\u001b[0m\u001b[1;33m\u001b[0m\u001b[1;33m\u001b[0m\u001b[0m\n\u001b[0;32m    504\u001b[0m                 \u001b[1;32mreturn\u001b[0m \u001b[0mresult\u001b[0m\u001b[1;33m\u001b[0m\u001b[1;33m\u001b[0m\u001b[0m\n",
      "\u001b[1;32mC:\\ProgramData\\Anaconda3\\lib\\urllib\\request.py\u001b[0m in \u001b[0;36mhttp_error_default\u001b[1;34m(self, req, fp, code, msg, hdrs)\u001b[0m\n\u001b[0;32m    647\u001b[0m \u001b[1;32mclass\u001b[0m \u001b[0mHTTPDefaultErrorHandler\u001b[0m\u001b[1;33m(\u001b[0m\u001b[0mBaseHandler\u001b[0m\u001b[1;33m)\u001b[0m\u001b[1;33m:\u001b[0m\u001b[1;33m\u001b[0m\u001b[1;33m\u001b[0m\u001b[0m\n\u001b[0;32m    648\u001b[0m     \u001b[1;32mdef\u001b[0m \u001b[0mhttp_error_default\u001b[0m\u001b[1;33m(\u001b[0m\u001b[0mself\u001b[0m\u001b[1;33m,\u001b[0m \u001b[0mreq\u001b[0m\u001b[1;33m,\u001b[0m \u001b[0mfp\u001b[0m\u001b[1;33m,\u001b[0m \u001b[0mcode\u001b[0m\u001b[1;33m,\u001b[0m \u001b[0mmsg\u001b[0m\u001b[1;33m,\u001b[0m \u001b[0mhdrs\u001b[0m\u001b[1;33m)\u001b[0m\u001b[1;33m:\u001b[0m\u001b[1;33m\u001b[0m\u001b[1;33m\u001b[0m\u001b[0m\n\u001b[1;32m--> 649\u001b[1;33m         \u001b[1;32mraise\u001b[0m \u001b[0mHTTPError\u001b[0m\u001b[1;33m(\u001b[0m\u001b[0mreq\u001b[0m\u001b[1;33m.\u001b[0m\u001b[0mfull_url\u001b[0m\u001b[1;33m,\u001b[0m \u001b[0mcode\u001b[0m\u001b[1;33m,\u001b[0m \u001b[0mmsg\u001b[0m\u001b[1;33m,\u001b[0m \u001b[0mhdrs\u001b[0m\u001b[1;33m,\u001b[0m \u001b[0mfp\u001b[0m\u001b[1;33m)\u001b[0m\u001b[1;33m\u001b[0m\u001b[1;33m\u001b[0m\u001b[0m\n\u001b[0m\u001b[0;32m    650\u001b[0m \u001b[1;33m\u001b[0m\u001b[0m\n\u001b[0;32m    651\u001b[0m \u001b[1;32mclass\u001b[0m \u001b[0mHTTPRedirectHandler\u001b[0m\u001b[1;33m(\u001b[0m\u001b[0mBaseHandler\u001b[0m\u001b[1;33m)\u001b[0m\u001b[1;33m:\u001b[0m\u001b[1;33m\u001b[0m\u001b[1;33m\u001b[0m\u001b[0m\n",
      "\u001b[1;31mHTTPError\u001b[0m: HTTP Error 403: Forbidden"
     ]
    }
   ],
   "source": [
    "import os\n",
    "import hashlib\n",
    "import urllib.request\n",
    "import json\n",
    "import codecs\n",
    "import ssl\n",
    "from flask import Flask, request, abort\n",
    "from linebot import LineBotApi, WebhookHandler\n",
    "from linebot.exceptions import InvalidSignatureError\n",
    "from linebot.models import *\n",
    "from bs4 import BeautifulSoup\n",
    "from urllib.request import Request, urlopen\n",
    "import pandas as pd\n",
    "import csv\n",
    "import os.path\n",
    "\n",
    "ssl._create_default_https_context = ssl._create_unverified_context\n",
    "#輸入想要追蹤的網址，可以增加或刪除\n",
    "site='https://www.hermes.com/tw/zh/category/women/bags-and-small-leather-goods/bags-and-clutches/#|'\n",
    "#讀入資料\n",
    "local_data=[] \n",
    "filename = 'sitedata.csv'\n",
    "\n",
    "with open(filename,'r',encoding=\"utf-8\") as csvfile:\n",
    "    data= csv.reader(csvfile)\n",
    "    for row in data:\n",
    "        local_data=row\n",
    "\n",
    "headers = {\n",
    "            'User-Agent':\n",
    "                'Mozilla/5.0 (Windows NT 6.1; WOW64) AppleWebKit/537.36 (KHTML, like Gecko) Chrome/56.0.2924.87 Safari/537.36',\n",
    "            'Accept-Encoding': 'gzip, deflate'\n",
    "        }\n",
    "request1 = urllib.request.Request(site, headers=headers)\n",
    "remote_data = urllib.request.urlopen(request1).read()\n",
    "\n",
    "LINE_CHANNEL_ACCESS_TOKEN = ''\n",
    "LINE_CHANNEL_SECRET = ''\n",
    "\n",
    "app = Flask(__name__)\n",
    "\n",
    "line_bot_api = LineBotApi(LINE_CHANNEL_ACCESS_TOKEN)\n",
    "handler = WebhookHandler(LINE_CHANNEL_SECRET)\n",
    "    \n",
    "#查看現有的商品\n",
    "list1=''\n",
    "soup = BeautifulSoup(remote_data,'html.parser')\n",
    "a_tags = soup.find_all('h4')\n",
    "for tag in a_tags:\n",
    "# 輸出超連結的文字\n",
    "  if tag.string!=None:\n",
    "    list1+=tag.string\n",
    "    list1+='\\n'\n",
    "#比較名子 有長短變更的話輸出全新的line資料\n",
    "list2=list1.split('\\n')\n",
    "\n",
    "#if local_data!=list2:\n",
    "\n",
    "    #line_bot_api.broadcast(TextSendMessage(text=list1))\n",
    "#把更新的包名寫回json檔\n",
    "#with open(filename,'w',encoding=\"utf-8\") as outfile:\n",
    "    #writer=csv.writer(outfile)\n",
    "    #writer.writerow(list2)"
   ]
  },
  {
   "cell_type": "code",
   "execution_count": 3,
   "id": "624831f1",
   "metadata": {},
   "outputs": [
    {
     "name": "stdout",
     "output_type": "stream",
     "text": [
      "\n"
     ]
    }
   ],
   "source": [
    "import os\n",
    "import hashlib\n",
    "import urllib.request\n",
    "import json\n",
    "import codecs\n",
    "import ssl\n",
    "from flask import Flask, request, abort\n",
    "from linebot import LineBotApi, WebhookHandler\n",
    "from linebot.exceptions import InvalidSignatureError\n",
    "from linebot.models import *\n",
    "from bs4 import BeautifulSoup\n",
    "from urllib.request import Request, urlopen\n",
    "import pandas as pd\n",
    "import csv\n",
    "import os.path\n",
    "from bs4 import BeautifulSoup\n",
    "import cloudscraper\n",
    "site='https://www.hermes.com/tw/zh/category/women/bags-and-small-leather-goods/bags-and-clutches/#|'\n",
    "new_response = cloudscraper.create_scraper().get(site)\n",
    "list1=''\n",
    "soup = BeautifulSoup(new_response.text,'html.parser')\n",
    "a_tags = soup.find_all('span',class_=\"product-item-name\")\n",
    "for tag in a_tags:\n",
    "# 輸出超連結的文字\n",
    "  if tag.text!=None and tag.text!='Maillons肩帶' and tag.text!='Attelage肩帶':\n",
    "        list1+=tag.text\n",
    "        list1+='\\n'\n",
    "print(list1)"
   ]
  },
  {
   "cell_type": "code",
   "execution_count": 14,
   "id": "fa89ae88",
   "metadata": {},
   "outputs": [
    {
     "data": {
      "text/plain": [
       "[]"
      ]
     },
     "execution_count": 14,
     "metadata": {},
     "output_type": "execute_result"
    }
   ],
   "source": [
    "a_tags"
   ]
  },
  {
   "cell_type": "code",
   "execution_count": 4,
   "id": "aeb282d2",
   "metadata": {},
   "outputs": [],
   "source": [
    "import csv \n",
    "local_data=''\n",
    "with open(\"pursedata.csv\",'r',encoding= 'utf-8') as csvfile:\n",
    "    data= csv.reader(csvfile)\n",
    "    local_data=list(data)\n",
    "\n",
    "        "
   ]
  },
  {
   "cell_type": "code",
   "execution_count": 5,
   "id": "96ebd549",
   "metadata": {},
   "outputs": [
    {
     "data": {
      "text/plain": [
       "0"
      ]
     },
     "execution_count": 5,
     "metadata": {},
     "output_type": "execute_result"
    }
   ],
   "source": [
    "len(local_data[0])"
   ]
  },
  {
   "cell_type": "code",
   "execution_count": 6,
   "id": "4ad075b1",
   "metadata": {},
   "outputs": [],
   "source": [
    "list1\n",
    "list2=list1.split('\\n')"
   ]
  },
  {
   "cell_type": "code",
   "execution_count": 7,
   "id": "e90acfc3",
   "metadata": {},
   "outputs": [],
   "source": [
    "\n",
    "for i  in range(len(list2)) :\n",
    "    if '\\xa0' in list2[i]:\n",
    "        list2[i]=list2[i].replace('\\xa0',' ') "
   ]
  },
  {
   "cell_type": "code",
   "execution_count": 8,
   "id": "afc69bf5",
   "metadata": {},
   "outputs": [
    {
     "data": {
      "text/plain": [
       "1"
      ]
     },
     "execution_count": 8,
     "metadata": {},
     "output_type": "execute_result"
    }
   ],
   "source": [
    "len(list2)"
   ]
  },
  {
   "cell_type": "code",
   "execution_count": 9,
   "id": "4a2abd83",
   "metadata": {},
   "outputs": [
    {
     "data": {
      "text/plain": [
       "False"
      ]
     },
     "execution_count": 9,
     "metadata": {},
     "output_type": "execute_result"
    }
   ],
   "source": [
    "del list2[-1]\n",
    "local_data[0]!=list2\n"
   ]
  },
  {
   "cell_type": "code",
   "execution_count": 10,
   "id": "c2f55a4f",
   "metadata": {},
   "outputs": [
    {
     "data": {
      "text/plain": [
       "True"
      ]
     },
     "execution_count": 10,
     "metadata": {},
     "output_type": "execute_result"
    }
   ],
   "source": [
    "local_data[0]==list2"
   ]
  },
  {
   "cell_type": "code",
   "execution_count": 12,
   "id": "c6e362f7",
   "metadata": {},
   "outputs": [],
   "source": [
    "with open(\"sitedata.csv\",'w', encoding='utf-8') as outfile:          \n",
    "    writer=csv.writer(outfile)          \n",
    "    writer.writerow(list2)"
   ]
  },
  {
   "cell_type": "code",
   "execution_count": 11,
   "id": "e4d7c66e",
   "metadata": {},
   "outputs": [
    {
     "name": "stdout",
     "output_type": "stream",
     "text": [
      "\n"
     ]
    }
   ],
   "source": [
    "#小皮件\n",
    "from bs4 import BeautifulSoup\n",
    "import csv\n",
    "import cloudscraper\n",
    "import os\n",
    "import hashlib\n",
    "import urllib.request\n",
    "import json\n",
    "import codecs\n",
    "import ssl\n",
    "from flask import Flask, request, abort\n",
    "from linebot import LineBotApi, WebhookHandler\n",
    "from linebot.exceptions import InvalidSignatureError\n",
    "from linebot.models import *\n",
    "from urllib.request import Request, urlopen\n",
    "import pandas as pd\n",
    "import os.path\n",
    "site='https://www.hermes.com/tw/zh/category/women/bags-and-small-leather-goods/small-leather-goods/#'\n",
    "new_response = cloudscraper.create_scraper().get(site)\n",
    "list1=''\n",
    "soup = BeautifulSoup(new_response.text,'html.parser')\n",
    "a_tags = soup.find_all('span',class_=\"product-item-name\")\n",
    "for tag in a_tags:\n",
    "# 輸出超連結的文字\n",
    "  if tag.string!=None:\n",
    "        list1+=tag.string\n",
    "        list1+='\\n'\n",
    "print(list1)\n",
    "filename='pursedata.csv'\n",
    "list2=list1.split('\\n')\n",
    "del list2[-1]\n",
    "with open(filename,'w',encoding='utf-8') as outfile:\n",
    "    writer=csv.writer(outfile)\n",
    "    writer.writerow(list2)"
   ]
  },
  {
   "cell_type": "code",
   "execution_count": 3,
   "id": "c8f21b88",
   "metadata": {},
   "outputs": [
    {
     "name": "stdout",
     "output_type": "stream",
     "text": [
      "\n"
     ]
    }
   ],
   "source": [
    "#小吊飾\n",
    "from bs4 import BeautifulSoup\n",
    "import csv\n",
    "import cloudscraper\n",
    "\n",
    "site='https://www.hermes.com/tw/zh/category/women/bags-and-small-leather-goods/leather-accessories/#|'\n",
    "new_response = cloudscraper.create_scraper().get(site)\n",
    "list1=''\n",
    "soup = BeautifulSoup(new_response.text,'html.parser')\n",
    "a_tags = soup.find_all('h4')\n",
    "for tag in a_tags:\n",
    "# 輸出超連結的文字\n",
    "  if tag.string!=None and tag.string!='Maillons肩帶' and tag.string!='Attelage肩帶' and tag.string!='Apple AirTag Hermès行‍李箱吊牌' and tag.string!='Apple AirTag Hermès手‍提包吊飾' and tag.string!='Apple AirTag Hermès鑰匙圈':\n",
    "        list1+=tag.string\n",
    "        list1+='\\n'\n",
    "print(list1)\n",
    "filename='accessorydata.csv'\n",
    "list2=list1.split('\\n')\n",
    "del list2[-1]\n",
    "with open(filename,'w',encoding='utf-8') as outfile:\n",
    "    writer=csv.writer(outfile)\n",
    "    writer.writerow(list2)"
   ]
  },
  {
   "cell_type": "code",
   "execution_count": 1,
   "id": "38730fbe",
   "metadata": {},
   "outputs": [
    {
     "name": "stdout",
     "output_type": "stream",
     "text": [
      "bigbagfail\n",
      "pursefail\n",
      "bigbagfail\n",
      "pursefail\n",
      "bigbagfail\n",
      "pursefail\n",
      "bigbagfail\n",
      "pursefail\n"
     ]
    },
    {
     "ename": "KeyboardInterrupt",
     "evalue": "",
     "output_type": "error",
     "traceback": [
      "\u001b[1;31m---------------------------------------------------------------------------\u001b[0m",
      "\u001b[1;31mKeyboardInterrupt\u001b[0m                         Traceback (most recent call last)",
      "\u001b[1;32m<ipython-input-1-9ca41b4803e7>\u001b[0m in \u001b[0;36m<module>\u001b[1;34m\u001b[0m\n\u001b[0;32m     88\u001b[0m \u001b[1;33m\u001b[0m\u001b[0m\n\u001b[0;32m     89\u001b[0m \u001b[1;33m\u001b[0m\u001b[0m\n\u001b[1;32m---> 90\u001b[1;33m     \u001b[0mtime\u001b[0m\u001b[1;33m.\u001b[0m\u001b[0msleep\u001b[0m\u001b[1;33m(\u001b[0m\u001b[1;36m7\u001b[0m\u001b[1;33m)\u001b[0m\u001b[1;33m\u001b[0m\u001b[1;33m\u001b[0m\u001b[0m\n\u001b[0m\u001b[0;32m     91\u001b[0m \u001b[1;33m\u001b[0m\u001b[0m\n\u001b[0;32m     92\u001b[0m \u001b[1;33m\u001b[0m\u001b[0m\n",
      "\u001b[1;31mKeyboardInterrupt\u001b[0m: "
     ]
    }
   ],
   "source": [
    "#正常執行\n",
    "import os\n",
    "import hashlib\n",
    "import urllib.request\n",
    "import json\n",
    "import codecs\n",
    "import ssl\n",
    "from flask import Flask, request, abort\n",
    "from linebot import LineBotApi, WebhookHandler\n",
    "from linebot.exceptions import InvalidSignatureError\n",
    "from linebot.models import *\n",
    "from bs4 import BeautifulSoup\n",
    "from urllib.request import Request, urlopen\n",
    "import pandas as pd\n",
    "import csv\n",
    "import os.path\n",
    "from bs4 import BeautifulSoup\n",
    "import cloudscraper\n",
    "import time\n",
    "\n",
    "i=0\n",
    "while i<4999 :\n",
    "    #headers = {\n",
    "     #           'User-Agent':\n",
    "      #              'Mozilla/5.0 (Windows NT 6.1; WOW64) AppleWebKit/537.36 (KHTML, like Gecko) Chrome/56.0.2924.87 Safari/537.36',\n",
    "       #         'Accept-Encoding': 'gzip, deflate'\n",
    "        #    }\n",
    "    ssl._create_default_https_context = ssl._create_unverified_context\n",
    "    LINE_CHANNEL_ACCESS_TOKEN = ''\n",
    "    LINE_CHANNEL_SECRET = ''\n",
    "    app = Flask(__name__)\n",
    "    line_bot_api = LineBotApi(LINE_CHANNEL_ACCESS_TOKEN)\n",
    "    handler = WebhookHandler(LINE_CHANNEL_SECRET)\n",
    "    site='https://www.hermes.com/tw/zh/category/women/bags-and-small-leather-goods/bags-and-clutches/#|'\n",
    "    list1=''\n",
    "    \n",
    "    \n",
    "    new_response = cloudscraper.create_scraper(delay=10,   browser={'custom': 'ScraperBot/1.0',}).get(site)\n",
    "    soup = BeautifulSoup(new_response.text,'html.parser')\n",
    "    a_tags = soup.find_all('span',class_=\"product-item-name\")\n",
    "    i+=1\n",
    "    \n",
    "    if len(a_tags)!=0:\n",
    "        print('bigbagsuccess')\n",
    "        \n",
    "    if len(a_tags)==0:\n",
    "        print('bigbagfail')\n",
    "    time.sleep(8)   \n",
    "#輸出超連結的文字\n",
    "    for tag in a_tags:\n",
    "        if tag.text!=None and tag.text!='Maillons肩帶' and tag.text!='Attelage肩帶' and tag.text!='Passage Cloute肩帶' and tag.text!= 'Mini Dog ronds 16 mm肩帶':\n",
    "            list1+=tag.text\n",
    "            list1+='\\n'\n",
    "    local_data=''\n",
    "    filename='sitedata.csv'\n",
    "    with open(filename,'r', encoding='utf-8') as csvfile:\n",
    "        data= csv.reader(csvfile)\n",
    "        local_data=list(data)\n",
    "    list2=list1.split('\\n')\n",
    "    for i  in range(len(list2)) :\n",
    "        if '\\xa0' in list2[i]:\n",
    "            list2[i]=list2[i].replace('\\xa0',' ')\n",
    "    del list2[-1]\n",
    "    if  len(local_data[0])+1<len(list2) and len(list1)!=0:\n",
    "        #line_bot_api.broadcast(TextSendMessage(text='測試\\n'+str(list2)+'\\n'+str(local_data[0])+'\\n'))\n",
    "        line_bot_api.broadcast(TextSendMessage(text=list1+'\\n'+'購買連結:'+'https://www.hermes.com/tw/zh/category/women/bags-and-small-leather-goods/bags-and-clutches/'))\n",
    "        \n",
    "    with open(filename,'w', encoding='utf-8') as outfile:          \n",
    "        writer=csv.writer(outfile)          \n",
    "        writer.writerow(list2)\n",
    "        \n",
    "    #小包\n",
    "    site='https://www.hermes.com/tw/zh/category/women/bags-and-small-leather-goods/small-leather-goods/#'\n",
    "    list1=''\n",
    "    \n",
    "    \n",
    "    new_response = cloudscraper.create_scraper(delay=10,   browser={'custom': 'ScraperBot/1.0',}).get(site)\n",
    "    soup = BeautifulSoup(new_response.text,'html.parser')\n",
    "    a_tags = soup.find_all('span',class_=\"product-item-name\")\n",
    "   \n",
    "    \n",
    "    if len(a_tags)!=0:\n",
    "        print('pursesuccess')\n",
    "        \n",
    "    if len(a_tags)==0:\n",
    "        print('pursefail')\n",
    "        \n",
    "    \n",
    "    \n",
    "    time.sleep(7)\n",
    "    \n",
    "\n",
    "    \n",
    "#輸出超連結的文字\n",
    "    for tag in a_tags:\n",
    "        if tag.text!=None and tag.text!= 'Mini Dog ronds 16 mm肩帶' and tag.text!= 'Passage Cloute肩帶' and tag.text!='Carre Pocket手拿包' and tag.text!='Carre Pocket長型小包' and tag.text!='GM Simple行事曆皮革套' and tag.text!='Carre Pocket長版置物小包':\n",
    "            list1+=tag.text\n",
    "            list1+='\\n'\n",
    "    local_data=''\n",
    "    filename='pursedata.csv'\n",
    "    with open(filename,'r', encoding='utf-8') as csvfile:\n",
    "        data= csv.reader(csvfile)\n",
    "        local_data=list(data)\n",
    "    list2=list1.split('\\n')\n",
    "    \n",
    "    del list2[-1]\n",
    "    if  len(local_data[0])+1<len(list2) and len(list1)!=0:\n",
    "        \n",
    "        line_bot_api.broadcast(TextSendMessage(text=list1+'\\n'+'購買連結:'+'https://www.hermes.com/tw/zh/category/women/bags-and-small-leather-goods/small-leather-goods/'))\n",
    "        \n",
    "    with open(filename,'w', encoding='utf-8') as outfile:          \n",
    "        writer=csv.writer(outfile)          \n",
    "        writer.writerow(list2)"
   ]
  },
  {
   "cell_type": "code",
   "execution_count": null,
   "id": "085cb811",
   "metadata": {},
   "outputs": [
    {
     "name": "stdout",
     "output_type": "stream",
     "text": [
      "pursefail\n",
      "[]\n",
      "pursefail\n",
      "[]\n",
      "pursesuccess\n",
      "['Carre pocket手拿包', 'Atout 26收納包']\n",
      "pursesuccess\n",
      "['Carre pocket手拿包', 'Atout 26收納包']\n",
      "pursesuccess\n",
      "['Carre pocket手拿包', 'Atout 26收納包']\n",
      "pursesuccess\n",
      "['Carre pocket手拿包', 'Atout 26收納包']\n",
      "pursesuccess\n",
      "['Carre pocket手拿包', 'Atout 26收納包']\n",
      "pursesuccess\n",
      "['Carre pocket手拿包', 'Atout 26收納包']\n",
      "pursesuccess\n",
      "['Carre pocket手拿包', 'Atout 26收納包']\n",
      "pursesuccess\n",
      "['Carre pocket手拿包', 'Atout 26收納包']\n",
      "pursesuccess\n",
      "['Carre pocket手拿包', 'Atout 26收納包']\n",
      "pursesuccess\n"
     ]
    }
   ],
   "source": [
    "import os\n",
    "import hashlib\n",
    "import urllib.request\n",
    "import json\n",
    "import codecs\n",
    "import ssl\n",
    "from flask import Flask, request, abort\n",
    "from linebot import LineBotApi, WebhookHandler\n",
    "from linebot.exceptions import InvalidSignatureError\n",
    "from linebot.models import *\n",
    "from bs4 import BeautifulSoup\n",
    "from urllib.request import Request, urlopen\n",
    "import pandas as pd\n",
    "import csv\n",
    "import os.path\n",
    "from bs4 import BeautifulSoup\n",
    "import cloudscraper\n",
    "import time\n",
    "while 1:\n",
    "    site='https://www.hermes.com/tw/zh/category/women/bags-and-small-leather-goods/small-leather-goods/#'\n",
    "    list1=''\n",
    "    \n",
    "    \n",
    "    new_response = cloudscraper.create_scraper(delay=10,   browser={'custom': 'ScraperBot/1.0',}).get(site)\n",
    "    soup = BeautifulSoup(new_response.text,'html.parser')\n",
    "    a_tags = soup.find_all('span',class_=\"product-item-name\")\n",
    "   \n",
    "    \n",
    "    if len(a_tags)!=0:\n",
    "        print('pursesuccess')\n",
    "        \n",
    "    if len(a_tags)==0:\n",
    "        print('pursefail')\n",
    "        \n",
    "    \n",
    "    \n",
    "    time.sleep(7)\n",
    "    \n",
    "\n",
    "    \n",
    "#輸出超連結的文字\n",
    "    for tag in a_tags:\n",
    "        if tag.text!=None and tag.text!= 'Mini Dog ronds 16 mm肩帶' and tag.text!= 'Passage Cloute肩帶' and tag.text!='Carre Pocket手拿包' and tag.text!='Carre Pocket長型小包' and tag.text!='GM Simple行事曆皮革套' and tag.text!='Carre Pocket長版置物小包':\n",
    "            list1+=tag.text\n",
    "            list1+='\\n'\n",
    "    local_data=''\n",
    "    filename='pursedata.csv'\n",
    "    with open(filename,'r', encoding='utf-8') as csvfile:\n",
    "        data= csv.reader(csvfile)\n",
    "        local_data=list(data)\n",
    "    list2=list1.split('\\n')\n",
    "    \n",
    "    del list2[-1]\n",
    "    print(list2)\n",
    "    if  len(local_data[0])+1<len(list2) and len(list1)!=0:\n",
    "        print('yes')"
   ]
  },
  {
   "cell_type": "code",
   "execution_count": 12,
   "id": "ba1c8ab6",
   "metadata": {},
   "outputs": [
    {
     "name": "stdout",
     "output_type": "stream",
     "text": [
      "Python 3.8.8\n"
     ]
    }
   ],
   "source": [
    "!python --version"
   ]
  },
  {
   "cell_type": "code",
   "execution_count": null,
   "id": "ba6c1206",
   "metadata": {},
   "outputs": [],
   "source": []
  }
 ],
 "metadata": {
  "kernelspec": {
   "display_name": "Python 3",
   "language": "python",
   "name": "python3"
  },
  "language_info": {
   "codemirror_mode": {
    "name": "ipython",
    "version": 3
   },
   "file_extension": ".py",
   "mimetype": "text/x-python",
   "name": "python",
   "nbconvert_exporter": "python",
   "pygments_lexer": "ipython3",
   "version": "3.8.8"
  }
 },
 "nbformat": 4,
 "nbformat_minor": 5
}
